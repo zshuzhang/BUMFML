{
 "cells": [
  {
   "cell_type": "code",
   "execution_count": null,
   "metadata": {},
   "outputs": [],
   "source": [
    "import copy\n",
    "\n",
    "#Function to build techinical MA by using 'Close price' \n",
    "#Author Yansheng Zhu\n",
    "#Time last edited: 15:45 June 24, 2020\n",
    "#Last edited by: Yansheng Zhu\n",
    "#input: portfolio dictionary, interval ('5' '10' '30' '60' for MA5 MA10...), path of daily data\n",
    "#output: new portfolio dictionary, with updated feature MA\n",
    "\n",
    "def build_MA(portfolio,interval='30',path='data/1d/'):\n",
    "    \n",
    "    new_port = copy.deepcopy(portfolio)\n",
    "    col_name='MA'+interval\n",
    "    for ticker in new_port.keys():\n",
    "        \n",
    "        #calculate MA from an available month. \n",
    "        #if daily data from 2020-01-01, MA30 will be calculated from 2020-04-01 \n",
    "        #to make sure there're enough days for MA\n",
    "        starting=datetime.strptime(new_port[ticker]['Date'][0], '%Y-%m-%d')+relativedelta(months = (int(interval)//20+2))\n",
    "        starting=starting.strftime('%Y-%m-%d')\n",
    "        \n",
    "        new_port[ticker][col_name]=0\n",
    "        daily_hist=pd.read_csv(path+ticker+'.csv')\n",
    "        months=new_port[ticker]['Date'][new_port[ticker]['Date']>=starting]\n",
    "        \n",
    "        for month in months:\n",
    "            MA_end=daily_hist[daily_hist['Date']<month].iloc[-1].name\n",
    "            MA_start=daily_hist[daily_hist['Date']<month].iloc[-int(interval)].name\n",
    "            MA=daily_hist['Close'][MA_start:MA_end+1].mean()\n",
    "            \n",
    "            row_index=new_port[ticker][new_port[ticker]['Date']==month].index[0]\n",
    "            new_port[ticker].loc[row_index,col_name]=MA\n",
    "    return new_port\n"
   ]
  }
 ],
 "metadata": {
  "kernelspec": {
   "display_name": "Python 3",
   "language": "python",
   "name": "python3"
  },
  "language_info": {
   "codemirror_mode": {
    "name": "ipython",
    "version": 3
   },
   "file_extension": ".py",
   "mimetype": "text/x-python",
   "name": "python",
   "nbconvert_exporter": "python",
   "pygments_lexer": "ipython3",
   "version": "3.7.3"
  }
 },
 "nbformat": 4,
 "nbformat_minor": 2
}
