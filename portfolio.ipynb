{
 "cells": [
  {
   "cell_type": "code",
   "execution_count": 1,
   "metadata": {},
   "outputs": [],
   "source": [
    "# Author: Michael Djaballah\n",
    "# Last edited: \n",
    "# Last edited by: Michael Djaballah\n",
    "\n",
    "import yfinance as yf\n",
    "import pandas as pd\n",
    "from datetime import datetime\n",
    "import os\n",
    "from time import sleep\n",
    "from dateutil.relativedelta import relativedelta\n",
    "import sklearn as sk\n",
    "from sklearn.preprocessing import StandardScaler\n",
    "import seaborn as sns"
   ]
  },
  {
   "cell_type": "code",
   "execution_count": 2,
   "metadata": {},
   "outputs": [],
   "source": [
    "# Functions to maintain and call the S&P 500 from a current date\n",
    "# Author Michael Djaballah\n",
    "# Time last edited: 5:56 PM June 1, 2020\n",
    "# Last edited by: Michael Djaballah\n",
    "\n",
    "# Takes no input\n",
    "# Output is newly saved CSV's containing the current makeup of the S&P 500 \n",
    "# and its historical additions and removals\n",
    "# data_path is changeable depending on desired save location\n",
    "def get_snp_store(data_path='data/'):\n",
    "    curr_raw = pd.read_html('https://en.wikipedia.org/wiki/List_of_S%26P_500_companies')\n",
    "    \n",
    "    curr = curr_raw[0]\n",
    "    hist = curr_raw[1]\n",
    "    \n",
    "    new_hist = pd.DataFrame(hist['Date'])\n",
    "    new_hist['Added'] = hist['Added', 'Ticker']\n",
    "    new_hist['Removed'] = hist['Removed', 'Ticker']\n",
    "    \n",
    "    os.makedirs(data_path, exist_ok=True)\n",
    "    \n",
    "    curr.to_csv(data_path + 'snp_current.csv', index=False)\n",
    "    new_hist.to_csv(data_path + 'snp_hist.csv', index=False)\n",
    "    return None\n",
    "\n",
    "\n",
    "# Input: a date in string form with its corresponding format:\n",
    "# Ex: 'January 1, 2020', '%B %d, %Y'\n",
    "# Output: a list containing the S&P 500 at the input date\n",
    "def build_snp(date, date_format, data_path='data/'):\n",
    "    curr = pd.read_csv(data_path + 'snp_current.csv')\n",
    "    hist = pd.read_csv(data_path + 'snp_hist.csv')\n",
    "    \n",
    "    start_date = datetime.strptime(date, date_format)\n",
    "    \n",
    "    snp_set = set(curr['Symbol'])\n",
    "    \n",
    "    for i in range(len(hist)):\n",
    "        temp_date = datetime.strptime(hist.iloc[i]['Date'], date_format)\n",
    "        if temp_date < start_date:\n",
    "            break\n",
    "\n",
    "        tb_removed = hist.iloc[i]['Added']\n",
    "        tb_added = hist.iloc[i]['Removed']\n",
    "\n",
    "        if tb_removed in snp_set:\n",
    "            snp_set.remove(tb_removed)\n",
    "        if not type(tb_added) == float:\n",
    "            snp_set.add(tb_added)\n",
    "    \n",
    "    return list(snp_set)"
   ]
  },
  {
   "cell_type": "code",
   "execution_count": 3,
   "metadata": {},
   "outputs": [],
   "source": [
    "from portfolio import Portfolio"
   ]
  },
  {
   "cell_type": "code",
   "execution_count": 4,
   "metadata": {},
   "outputs": [],
   "source": [
    "start_date = '2015-01-01'\n",
    "end_date = '2019-12-01'\n",
    "universe = build_snp('January 1, 2015', '%B %d, %Y')\n",
    "\n",
    "hist_depth = 12\n",
    "train_depth = 4"
   ]
  },
  {
   "cell_type": "code",
   "execution_count": 5,
   "metadata": {},
   "outputs": [
    {
     "name": "stdout",
     "output_type": "stream",
     "text": [
      "CPU times: user 1.06 s, sys: 46 ms, total: 1.11 s\n",
      "Wall time: 1.12 s\n"
     ]
    }
   ],
   "source": [
    "%%time\n",
    "port = Portfolio(universe, hist_depth=hist_depth, \n",
    "                 train_depth=train_depth, features = ['Close', 'Volume'])"
   ]
  },
  {
   "cell_type": "code",
   "execution_count": 6,
   "metadata": {},
   "outputs": [],
   "source": [
    "from sklearn.ensemble import RandomForestRegressor\n",
    "rfr = RandomForestRegressor(n_estimators=50, random_state=407, n_jobs=-1)"
   ]
  },
  {
   "cell_type": "code",
   "execution_count": null,
   "metadata": {},
   "outputs": [
    {
     "name": "stdout",
     "output_type": "stream",
     "text": [
      "2015-01-01 0.557418\n",
      "2015-02-01 0.085801\n",
      "2015-03-01 -0.005165\n"
     ]
    }
   ],
   "source": [
    "%%time\n",
    "results = port.backtest(rfr, start_date, end_date)"
   ]
  },
  {
   "cell_type": "code",
   "execution_count": 9,
   "metadata": {},
   "outputs": [],
   "source": [
    "# for key in port.__dict__.keys():\n",
    "#     if key != 'portfolio':\n",
    "#         print(key, port.__dict__[key])"
   ]
  }
 ],
 "metadata": {
  "kernelspec": {
   "display_name": "Python 3.7.6 64-bit ('base': conda)",
   "language": "python",
   "name": "python37664bitbaseconda9e65c572ed0444d5bc39393b7e6857ff"
  },
  "language_info": {
   "codemirror_mode": {
    "name": "ipython",
    "version": 3
   },
   "file_extension": ".py",
   "mimetype": "text/x-python",
   "name": "python",
   "nbconvert_exporter": "python",
   "pygments_lexer": "ipython3",
   "version": "3.7.7"
  }
 },
 "nbformat": 4,
 "nbformat_minor": 4
}
